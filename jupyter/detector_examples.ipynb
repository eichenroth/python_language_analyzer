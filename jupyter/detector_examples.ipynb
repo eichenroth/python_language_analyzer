{
 "cells": [
  {
   "cell_type": "code",
   "execution_count": 29,
   "metadata": {},
   "outputs": [],
   "source": [
    "from python_language_analyzer.analyzer import Analyzer\n",
    "from python_language_analyzer.detectors.built_in_function_detector import BuiltInFunctionDetector\n",
    "from python_language_analyzer.detectors.class_detector import ClassDetector\n",
    "from python_language_analyzer.detectors.control_flow_detector import ControlFlowDetector"
   ]
  },
  {
   "cell_type": "code",
   "execution_count": 36,
   "metadata": {},
   "outputs": [],
   "source": [
    "with open('./files/hierarchical_softmax.py', 'r') as f:\n",
    "    file = f.readlines()\n",
    "\n",
    "detectors = [ClassDetector]\n",
    "# detectors = [ControlFlowDetector]\n",
    "# detectors = [BuiltInFunctionDetector]\n",
    "\n",
    "analyzer = Analyzer(file, detectors)\n",
    "detections = analyzer()"
   ]
  },
  {
   "cell_type": "code",
   "execution_count": 37,
   "metadata": {},
   "outputs": [
    {
     "name": "stdout",
     "output_type": "stream",
     "text": [
      "class\n",
      "14\n",
      "{'name': 'TreeParser', 'method_number': 6}\n",
      "class\n",
      "64\n",
      "{'name': 'BinaryHierarchicalSoftmaxFunction', 'method_number': 10}\n",
      "class\n",
      "253\n",
      "{'name': 'BinaryHierarchicalSoftmax', 'method_number': 5}\n"
     ]
    }
   ],
   "source": [
    "for detection in detections:\n",
    "    print(detection.DETECTION_NAME)\n",
    "    print(detection.begin)\n",
    "    print(detection.info)"
   ]
  },
  {
   "cell_type": "code",
   "execution_count": null,
   "metadata": {},
   "outputs": [],
   "source": []
  }
 ],
 "metadata": {
  "kernelspec": {
   "display_name": "Python 3",
   "language": "python",
   "name": "python3"
  },
  "language_info": {
   "codemirror_mode": {
    "name": "ipython",
    "version": 3
   },
   "file_extension": ".py",
   "mimetype": "text/x-python",
   "name": "python",
   "nbconvert_exporter": "python",
   "pygments_lexer": "ipython3",
   "version": "3.6.3"
  }
 },
 "nbformat": 4,
 "nbformat_minor": 2
}
